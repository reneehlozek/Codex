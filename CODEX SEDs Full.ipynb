{
 "cells": [
  {
   "cell_type": "code",
   "execution_count": 1,
   "metadata": {},
   "outputs": [
    {
     "name": "stdout",
     "output_type": "stream",
     "text": [
      "Once deleted, variables cannot be recovered. Proceed (y/[n])? y\n"
     ]
    }
   ],
   "source": [
    "%reset\n",
    "#This file translates CODEX files to a form appropriate for use in SNANA"
   ]
  },
  {
   "cell_type": "code",
   "execution_count": 2,
   "metadata": {
    "collapsed": true
   },
   "outputs": [],
   "source": [
    "import numpy as np\n",
    "import matplotlib.pyplot as plt\n",
    "%matplotlib inline"
   ]
  },
  {
   "cell_type": "code",
   "execution_count": 3,
   "metadata": {},
   "outputs": [],
   "source": [
    "#Gets data from original CODEX files\n",
    "data0=np.transpose(np.genfromtxt(\"o54/OA44f.all1106.285180.txt\",skip_header=4))\n",
    "data1=np.transpose(np.genfromtxt(\"o54/OA44f.all1106.285320.txt\",skip_header=4))\n",
    "data2=np.transpose(np.genfromtxt(\"o54/OA44f.all1106.285500p.txt\",skip_header=4))\n",
    "data3=np.transpose(np.genfromtxt(\"o54/OA44f.all1106.285700.txt\",skip_header=4))\n",
    "data4=np.transpose(np.genfromtxt(\"o54/OA44f.all1106.285860.txt\",skip_header=4))\n",
    "data5=np.transpose(np.genfromtxt(\"o54/OA44f.all1106.285980.txt\",skip_header=4))\n",
    "data6=np.transpose(np.genfromtxt(\"o54/OA44f.all1106.286060.txt\",skip_header=4))\n",
    "data7=np.transpose(np.genfromtxt(\"o54/OA44f.all1106.286100.txt\",skip_header=4))\n",
    "data8=np.transpose(np.genfromtxt(\"o54/OA44f.all1106.286140.txt\",skip_header=4))\n",
    "data9=np.transpose(np.genfromtxt(\"o54/OA44f.all1106.286320.txt\",skip_header=4))\n",
    "data10=np.transpose(np.genfromtxt(\"o54/OA44f.all1106.286520.txt\",skip_header=4))\n",
    "data11=np.transpose(np.genfromtxt(\"o54/OA44f.all1106.286700.txt\",skip_header=4))\n",
    "data12=np.transpose(np.genfromtxt(\"o54/OA44f.all1106.287000p.txt\",skip_header=4))\n",
    "data13=np.transpose(np.genfromtxt(\"o54/OA44f.all1106.287560p.txt\",skip_header=4))\n",
    "data14=np.transpose(np.genfromtxt(\"o54/OA44f.all1106.287740.txt\",skip_header=4))\n",
    "data15=np.transpose(np.genfromtxt(\"o54/OA44f.all1106.287820.txt\",skip_header=4))\n",
    "data16=np.transpose(np.genfromtxt(\"o54/OA44f.all1106.287880.txt\",skip_header=4))\n",
    "data17=np.transpose(np.genfromtxt(\"o54/OA44f.all1106.287940.txt\",skip_header=4))\n",
    "data18=np.transpose(np.genfromtxt(\"o54/OA44f.all1106.287980.txt\",skip_header=4))\n",
    "data19=np.transpose(np.genfromtxt(\"o54/OA44f.all1106.288140.txt\",skip_header=4))\n",
    "data20=np.transpose(np.genfromtxt(\"o54/OA44f.all1106.288320.txt\",skip_header=4))\n",
    "data21=np.transpose(np.genfromtxt(\"o54/OA44f.all1106.288460.txt\",skip_header=4))\n",
    "data22=np.transpose(np.genfromtxt(\"o54/OA44f.all1106.288620p.txt\",skip_header=4))\n",
    "data23=np.transpose(np.genfromtxt(\"o54/OA44f.all1106.288820.txt\",skip_header=4))\n",
    "data24=np.transpose(np.genfromtxt(\"o54/OA44f.all1106.289020.txt\",skip_header=4))\n",
    "data25=np.transpose(np.genfromtxt(\"o54/OA44f.all1106.289240.txt\",skip_header=4))\n",
    "data26=np.transpose(np.genfromtxt(\"o54/OA44f.all1106.289440.txt\",skip_header=4))\n",
    "data27=np.transpose(np.genfromtxt(\"o54/OA44f.all1106.289620.txt\",skip_header=4))\n",
    "data28=np.transpose(np.genfromtxt(\"o54/OA44f.all1106.289740.txt\",skip_header=4))\n",
    "data29=np.transpose(np.genfromtxt(\"o54/OA44f.all1106.289920.txt\",skip_header=4))\n",
    "data30=np.transpose(np.genfromtxt(\"o54/OA44f.all1106.290120.txt\",skip_header=4))\n",
    "data31=np.transpose(np.genfromtxt(\"o54/OA44f.all1106.290360.txt\",skip_header=4))\n",
    "data32=np.transpose(np.genfromtxt(\"o54/OA44f.all1106.290740p.txt\",skip_header=4))\n",
    "data33=np.transpose(np.genfromtxt(\"o54/OA44f.all1106.291500p.txt\",skip_header=4))\n",
    "data34=np.transpose(np.genfromtxt(\"o54/OA44f.all1106.291740p.txt\",skip_header=4))\n",
    "data35=np.transpose(np.genfromtxt(\"o54/OA44f.all1106.291800.txt\",skip_header=4))\n",
    "data36=np.transpose(np.genfromtxt(\"o54/OA44f.all1106.291820.txt\",skip_header=4))\n",
    "data37=np.transpose(np.genfromtxt(\"o54/OA44f.all1106.291840.txt\",skip_header=4))\n",
    "data38=np.transpose(np.genfromtxt(\"o54/OA44f.all1106.291860.txt\",skip_header=4))"
   ]
  },
  {
   "cell_type": "code",
   "execution_count": 4,
   "metadata": {
    "collapsed": true
   },
   "outputs": [],
   "source": [
    "data=np.array((data0,data1,data2,data3,data4,data5,data6,data7,data8,data9,data10,data11,data12,data13,data14,data15,data16,data17,data18,data19,data20,data21,data22,data23,data24,data25,data26,data27,data28,data29,data30,data31,data32,data33,data34,data35,data36,data37,data38))"
   ]
  },
  {
   "cell_type": "code",
   "execution_count": 488,
   "metadata": {},
   "outputs": [],
   "source": [
    "#Converts data\n",
    "d=300.00*9.461e+17\n",
    "dL=(d/3.086e+19)**2\n",
    "wavelist=np.zeros((39,760))\n",
    "lumilist=np.zeros((39,760))\n",
    "for i in range(len(data)):\n",
    "    hold1=data[i][1]*data[i][0]\n",
    "    hold2=hold1/(4*np.pi*d**2)\n",
    "    hold3=hold2*dL\n",
    "    lumi = hold3/(data[i][0]*10000)\n",
    "    wave = data[i][0]*10000\n",
    "    for j in range(760):\n",
    "        wavelist[i][j]=wave[j*5]\n",
    "        lumilist[i][j]=lumi[j*5]"
   ]
  },
  {
   "cell_type": "code",
   "execution_count": 489,
   "metadata": {},
   "outputs": [],
   "source": [
    "#Creates time values\n",
    "time=np.zeros((39,760))\n",
    "for k in range(39):\n",
    "    for l in range(760):\n",
    "        time[k][l]=-60.0+30.0*k\n",
    "        time[2][l]=0.0"
   ]
  },
  {
   "cell_type": "code",
   "execution_count": 491,
   "metadata": {
    "collapsed": true
   },
   "outputs": [],
   "source": [
    "timestack=np.concatenate((time))\n",
    "wavestack=np.concatenate((wavelist))\n",
    "lumistack=np.concatenate((lumilist))"
   ]
  },
  {
   "cell_type": "code",
   "execution_count": 492,
   "metadata": {
    "collapsed": true
   },
   "outputs": [],
   "source": [
    "np.savetxt('mira_o54_four.txt',np.column_stack([timestack,wavestack,lumistack]),fmt=('%.7e'),delimiter=' ')"
   ]
  },
  {
   "cell_type": "code",
   "execution_count": null,
   "metadata": {
    "collapsed": true
   },
   "outputs": [],
   "source": [
    "#The process is the same for the different versions of files"
   ]
  },
  {
   "cell_type": "code",
   "execution_count": 493,
   "metadata": {},
   "outputs": [],
   "source": [
    "data0=np.transpose(np.genfromtxt(\"o54/OA44f.all1106.248480.txt\",skip_header=4))\n",
    "data1=np.transpose(np.genfromtxt(\"o54/OA44f.all1106.248680.txt\",skip_header=4))\n",
    "data2=np.transpose(np.genfromtxt(\"o54/OA44f.all1106.248900.txt\",skip_header=4))\n",
    "data3=np.transpose(np.genfromtxt(\"o54/OA44f.all1106.249240p.txt\",skip_header=4))\n",
    "data4=np.transpose(np.genfromtxt(\"o54/OA44f.all1106.249960p.txt\",skip_header=4))\n",
    "data5=np.transpose(np.genfromtxt(\"o54/OA44f.all1106.250360.txt\",skip_header=4))\n",
    "data6=np.transpose(np.genfromtxt(\"o54/OA44f.all1106.250400.txt\",skip_header=4))\n",
    "data7=np.transpose(np.genfromtxt(\"o54/OA44f.all1106.250420.txt\",skip_header=4))\n",
    "data8=np.transpose(np.genfromtxt(\"o54/OA44f.all1106.250440.txt\",skip_header=4))\n",
    "data9=np.transpose(np.genfromtxt(\"o54/OA44f.all1106.250460.txt\",skip_header=4))\n",
    "data10=np.transpose(np.genfromtxt(\"o54/OA44f.all1106.250640.txt\",skip_header=4))\n",
    "data11=np.transpose(np.genfromtxt(\"o54/OA44f.all1106.250820.txt\",skip_header=4))\n",
    "data12=np.transpose(np.genfromtxt(\"o54/OA44f.all1106.250980.txt\",skip_header=4))\n",
    "data13=np.transpose(np.genfromtxt(\"o54/OA44f.all1106.251160p.txt\",skip_header=4))"
   ]
  },
  {
   "cell_type": "code",
   "execution_count": 494,
   "metadata": {
    "collapsed": true
   },
   "outputs": [],
   "source": [
    "data=np.array((data0,data1,data2,data3,data4,data5,data6,data7,data8,data9,data10,data11,data12,data13))"
   ]
  },
  {
   "cell_type": "code",
   "execution_count": 495,
   "metadata": {},
   "outputs": [],
   "source": [
    "d=266.0*9.461e+17\n",
    "dL=(d/3.086e+19)**2\n",
    "wavelist=np.zeros((14,760))\n",
    "lumilist=np.zeros((14,760))\n",
    "for i in range(len(data)):\n",
    "    hold1=data[i][1]*data[i][0]\n",
    "    hold2=hold1/(4*np.pi*d**2)\n",
    "    hold3=hold2*dL\n",
    "    lumi = hold3/(data[i][0]*10000)\n",
    "    wave = data[i][0]*10000\n",
    "    for j in range(760):\n",
    "        wavelist[i][j]=wave[j*5]\n",
    "        lumilist[i][j]=lumi[j*5] "
   ]
  },
  {
   "cell_type": "code",
   "execution_count": 496,
   "metadata": {},
   "outputs": [],
   "source": [
    "time=np.zeros((14,760))\n",
    "for k in range(14):\n",
    "    for l in range(760):\n",
    "        time[k][l]=-90.0+30.0*k\n",
    "        time[3][l]=0.0"
   ]
  },
  {
   "cell_type": "code",
   "execution_count": 498,
   "metadata": {
    "collapsed": true
   },
   "outputs": [],
   "source": [
    "timestack=np.concatenate((time))\n",
    "wavestack=np.concatenate((wavelist))\n",
    "lumistack=np.concatenate((lumilist))"
   ]
  },
  {
   "cell_type": "code",
   "execution_count": 499,
   "metadata": {
    "collapsed": true
   },
   "outputs": [],
   "source": [
    "np.savetxt('mira_o54_comp.txt',np.column_stack([timestack,wavestack,lumistack]),fmt=('%.7e'),delimiter=' ')"
   ]
  },
  {
   "cell_type": "code",
   "execution_count": 500,
   "metadata": {},
   "outputs": [],
   "source": [
    "data0=np.transpose(np.genfromtxt(\"o54/OA44f.all1106.260820.txt\",skip_header=4))\n",
    "data1=np.transpose(np.genfromtxt(\"o54/OA44f.all1106.260960.txt\",skip_header=4))\n",
    "data2=np.transpose(np.genfromtxt(\"o54/OA44f.all1106.261140p.txt\",skip_header=4))\n",
    "data3=np.transpose(np.genfromtxt(\"o54/OA44f.all1106.261320p.txt\",skip_header=4))\n",
    "data4=np.transpose(np.genfromtxt(\"o54/OA44f.all1106.261460.txt\",skip_header=4))\n",
    "data5=np.transpose(np.genfromtxt(\"o54/OA44f.all1106.261620.txt\",skip_header=4))\n",
    "data6=np.transpose(np.genfromtxt(\"o54/OA44f.all1106.261740.txt\",skip_header=4))\n",
    "data7=np.transpose(np.genfromtxt(\"o54/OA44f.all1106.261860.txt\",skip_header=4))\n",
    "data8=np.transpose(np.genfromtxt(\"o54/OA44f.all1106.261940.txt\",skip_header=4))\n",
    "data9=np.transpose(np.genfromtxt(\"o54/OA44f.all1106.262160.txt\",skip_header=4))\n",
    "data10=np.transpose(np.genfromtxt(\"o54/OA44f.all1106.262360.txt\",skip_header=4))\n",
    "data11=np.transpose(np.genfromtxt(\"o54/OA44f.all1106.262600p.txt\",skip_header=4))\n",
    "data12=np.transpose(np.genfromtxt(\"o54/OA44f.all1106.263160p.txt\",skip_header=4))\n",
    "data13=np.transpose(np.genfromtxt(\"o54/OA44f.all1106.263740p.txt\",skip_header=4))"
   ]
  },
  {
   "cell_type": "code",
   "execution_count": 501,
   "metadata": {
    "collapsed": true
   },
   "outputs": [],
   "source": [
    "data=np.array((data0,data1,data2,data3,data4,data5,data6,data7,data8,data9,data10,data11,data12,data13))"
   ]
  },
  {
   "cell_type": "code",
   "execution_count": 502,
   "metadata": {},
   "outputs": [],
   "source": [
    "d=332.0*9.461e+17\n",
    "dL=(d/3.086e+19)**2\n",
    "wavelist=np.zeros((14,760))\n",
    "lumilist=np.zeros((14,760))\n",
    "for i in range(len(data)):\n",
    "    hold1=data[i][1]*data[i][0]\n",
    "    hold2=hold1/(4*np.pi*d**2)\n",
    "    hold3=hold2*dL\n",
    "    lumi = hold3/(data[i][0]*10000)\n",
    "    wave = data[i][0]*10000\n",
    "    for j in range(760):\n",
    "        wavelist[i][j]=wave[j*5]\n",
    "        lumilist[i][j]=lumi[j*5]"
   ]
  },
  {
   "cell_type": "code",
   "execution_count": 503,
   "metadata": {},
   "outputs": [],
   "source": [
    "time=np.zeros((14,760))\n",
    "for k in range(14):\n",
    "    for l in range(760):\n",
    "        time[k][l]=-60.0+30.0*k\n",
    "        time[2][l]=0.0"
   ]
  },
  {
   "cell_type": "code",
   "execution_count": 505,
   "metadata": {},
   "outputs": [],
   "source": [
    "timestack=np.concatenate((time))\n",
    "wavestack=np.concatenate((wavelist))\n",
    "lumistack=np.concatenate((lumilist))"
   ]
  },
  {
   "cell_type": "code",
   "execution_count": 506,
   "metadata": {
    "collapsed": true
   },
   "outputs": [],
   "source": [
    "np.savetxt('mira_o54_exte.txt',np.column_stack([timestack,wavestack,lumistack]),fmt=('%.7e'),delimiter=' ')"
   ]
  },
  {
   "cell_type": "code",
   "execution_count": 507,
   "metadata": {},
   "outputs": [],
   "source": [
    "data0=np.transpose(np.genfromtxt(\"C50/OA44f.all1106.375360.txt\",skip_header=4))\n",
    "data1=np.transpose(np.genfromtxt(\"C50/OA44f.all1106.375490.txt\",skip_header=4))\n",
    "data2=np.transpose(np.genfromtxt(\"C50/OA44f.all1106.375630.txt\",skip_header=4))\n",
    "data3=np.transpose(np.genfromtxt(\"C50/OA44f.all1106.375780.txt\",skip_header=4))\n",
    "data4=np.transpose(np.genfromtxt(\"C50/OA44f.all1106.375920.txt\",skip_header=4))\n",
    "data5=np.transpose(np.genfromtxt(\"C50/OA44f.all1106.376050.txt\",skip_header=4))\n",
    "data6=np.transpose(np.genfromtxt(\"C50/OA44f.all1106.376160.txt\",skip_header=4))\n",
    "data7=np.transpose(np.genfromtxt(\"C50/OA44f.all1106.376260.txt\",skip_header=4))\n",
    "data8=np.transpose(np.genfromtxt(\"C50/OA44f.all1106.376330.txt\",skip_header=4))\n",
    "data9=np.transpose(np.genfromtxt(\"C50/OA44f.all1106.376380.txt\",skip_header=4))\n",
    "data10=np.transpose(np.genfromtxt(\"C50/OA44f.all1106.376470.txt\",skip_header=4))\n",
    "data11=np.transpose(np.genfromtxt(\"C50/OA44f.all1106.376630.txt\",skip_header=4))\n",
    "data12=np.transpose(np.genfromtxt(\"C50/OA44f.all1106.376820.txt\",skip_header=4))\n",
    "data13=np.transpose(np.genfromtxt(\"C50/OA44f.all1106.377110.txt\",skip_header=4))\n",
    "data14=np.transpose(np.genfromtxt(\"C50/OA44f.all1106.377490.txt\",skip_header=4))\n",
    "data15=np.transpose(np.genfromtxt(\"C50/OA44f.all1106.377710.txt\",skip_header=4))\n",
    "data16=np.transpose(np.genfromtxt(\"C50/OA44f.all1106.377750.txt\",skip_header=4))\n",
    "data17=np.transpose(np.genfromtxt(\"C50/OA44f.all1106.377760.txt\",skip_header=4))\n",
    "data18=np.transpose(np.genfromtxt(\"C50/OA44f.all1106.377770.txt\",skip_header=4))\n",
    "data19=np.transpose(np.genfromtxt(\"C50/OA44f.all1106.377790.txt\",skip_header=4))\n",
    "data20=np.transpose(np.genfromtxt(\"C50/OA44f.all1106.377880.txt\",skip_header=4))\n",
    "data21=np.transpose(np.genfromtxt(\"C50/OA44f.all1106.378020.txt\",skip_header=4))\n",
    "data22=np.transpose(np.genfromtxt(\"C50/OA44f.all1106.378160.txt\",skip_header=4))\n",
    "data23=np.transpose(np.genfromtxt(\"C50/OA44f.all1106.378320.txt\",skip_header=4))\n",
    "data24=np.transpose(np.genfromtxt(\"C50/OA44f.all1106.378470.txt\",skip_header=4))\n",
    "data25=np.transpose(np.genfromtxt(\"C50/OA44f.all1106.378570.txt\",skip_header=4))\n",
    "data26=np.transpose(np.genfromtxt(\"C50/OA44f.all1106.378630.txt\",skip_header=4))\n",
    "data27=np.transpose(np.genfromtxt(\"C50/OA44f.all1106.378660.txt\",skip_header=4))\n",
    "data28=np.transpose(np.genfromtxt(\"C50/OA44f.all1106.378680.txt\",skip_header=4))\n",
    "data29=np.transpose(np.genfromtxt(\"C50/OA44f.all1106.378710.txt\",skip_header=4))\n",
    "data30=np.transpose(np.genfromtxt(\"C50/OA44f.all1106.378810.txt\",skip_header=4))\n",
    "data31=np.transpose(np.genfromtxt(\"C50/OA44f.all1106.378960.txt\",skip_header=4))"
   ]
  },
  {
   "cell_type": "code",
   "execution_count": 508,
   "metadata": {
    "collapsed": true
   },
   "outputs": [],
   "source": [
    "data=np.array((data0,data1,data2,data3,data4,data5,data6,data7,data8,data9,data10,data11,data12,data13,data14,data15,data16,data17,data18,data19,data20,data21,data22,data23,data24,data25,data26,data27,data28,data29,data30,data31))"
   ]
  },
  {
   "cell_type": "code",
   "execution_count": 509,
   "metadata": {},
   "outputs": [],
   "source": [
    "d=410.0*9.461e+17\n",
    "dL=(d/3.086e+19)**2\n",
    "wavelist=np.zeros((32,760))\n",
    "lumilist=np.zeros((32,760))\n",
    "for i in range(len(data)):\n",
    "    hold1=data[i][1]*data[i][0]\n",
    "    hold2=hold1/(4*np.pi*d**2)\n",
    "    hold3=hold2*dL\n",
    "    lumi = hold3/(data[i][0]*10000)\n",
    "    wave = data[i][0]*10000\n",
    "    for j in range(760):\n",
    "        wavelist[i][j]=wave[j*5]\n",
    "        lumilist[i][j]=lumi[j*5]"
   ]
  },
  {
   "cell_type": "code",
   "execution_count": 510,
   "metadata": {},
   "outputs": [],
   "source": [
    "time=np.zeros((32,760))\n",
    "for k in range(32):\n",
    "    for l in range(760):\n",
    "        time[k][l]=-390.0+30.0*k\n",
    "        time[13][l]=0.0"
   ]
  },
  {
   "cell_type": "code",
   "execution_count": 512,
   "metadata": {},
   "outputs": [],
   "source": [
    "timestack=np.concatenate((time))\n",
    "wavestack=np.concatenate((wavelist))\n",
    "lumistack=np.concatenate((lumilist))"
   ]
  },
  {
   "cell_type": "code",
   "execution_count": 513,
   "metadata": {
    "collapsed": true
   },
   "outputs": [],
   "source": [
    "np.savetxt('mira_C50_dim.txt',np.column_stack([timestack,wavestack,lumistack]),fmt=('%.7e'),delimiter=' ')"
   ]
  },
  {
   "cell_type": "code",
   "execution_count": 514,
   "metadata": {},
   "outputs": [],
   "source": [
    "data0=np.transpose(np.genfromtxt(\"C81/OA44f.all1106.243570.txt\",skip_header=4))\n",
    "data1=np.transpose(np.genfromtxt(\"C81/OA44f.all1106.243670.txt\",skip_header=4))\n",
    "data2=np.transpose(np.genfromtxt(\"C81/OA44f.all1106.244000.txt\",skip_header=4))\n",
    "data3=np.transpose(np.genfromtxt(\"C81/OA44f.all1106.244140.txt\",skip_header=4))\n",
    "data4=np.transpose(np.genfromtxt(\"C81/OA44f.all1106.244330.txt\",skip_header=4))\n",
    "data5=np.transpose(np.genfromtxt(\"C81/OA44f.all1106.244700.txt\",skip_header=4))\n",
    "data6=np.transpose(np.genfromtxt(\"C81/OA44f.all1106.246230.txt\",skip_header=4))\n",
    "data7=np.transpose(np.genfromtxt(\"C81/OA44f.all1106.246810.txt\",skip_header=4))\n",
    "data8=np.transpose(np.genfromtxt(\"C81/OA44f.all1106.246910.txt\",skip_header=4))\n",
    "data9=np.transpose(np.genfromtxt(\"C81/OA44f.all1106.246940.txt\",skip_header=4))\n",
    "data10=np.transpose(np.genfromtxt(\"C81/OA44f.all1106.246960.txt\",skip_header=4))\n",
    "data11=np.transpose(np.genfromtxt(\"C81/OA44f.all1106.247020.txt\",skip_header=4))\n",
    "data12=np.transpose(np.genfromtxt(\"C81/OA44f.all1106.247280.txt\",skip_header=4))\n",
    "data13=np.transpose(np.genfromtxt(\"C81/OA44f.all1106.247450.txt\",skip_header=4))\n",
    "data14=np.transpose(np.genfromtxt(\"C81/OA44f.all1106.247690.txt\",skip_header=4))\n",
    "data15=np.transpose(np.genfromtxt(\"C81/OA44f.all1106.247810.txt\",skip_header=4))\n",
    "data16=np.transpose(np.genfromtxt(\"C81/OA44f.all1106.247900.txt\",skip_header=4))\n",
    "data17=np.transpose(np.genfromtxt(\"C81/OA44f.all1106.247970.txt\",skip_header=4))\n",
    "data18=np.transpose(np.genfromtxt(\"C81/OA44f.all1106.248020.txt\",skip_header=4))\n",
    "data19=np.transpose(np.genfromtxt(\"C81/OA44f.all1106.248060.txt\",skip_header=4))\n",
    "data20=np.transpose(np.genfromtxt(\"C81/OA44f.all1106.248130.txt\",skip_header=4))\n",
    "data21=np.transpose(np.genfromtxt(\"C81/OA44f.all1106.248430.txt\",skip_header=4))\n",
    "data22=np.transpose(np.genfromtxt(\"C81/OA44f.all1106.248580.txt\",skip_header=4))\n",
    "data23=np.transpose(np.genfromtxt(\"C81/OA44f.all1106.248730.txt\",skip_header=4))\n",
    "data24=np.transpose(np.genfromtxt(\"C81/OA44f.all1106.249030.txt\",skip_header=4))\n",
    "data25=np.transpose(np.genfromtxt(\"C81/OA44f.all1106.249400.txt\",skip_header=4))\n",
    "data26=np.transpose(np.genfromtxt(\"C81/OA44f.all1106.249500.txt\",skip_header=4))\n",
    "data27=np.transpose(np.genfromtxt(\"C81/OA44f.all1106.249580.txt\",skip_header=4))\n",
    "data28=np.transpose(np.genfromtxt(\"C81/OA44f.all1106.249710.txt\",skip_header=4))\n",
    "data29=np.transpose(np.genfromtxt(\"C81/OA44f.all1106.249890.txt\",skip_header=4))\n",
    "data30=np.transpose(np.genfromtxt(\"C81/OA44f.all1106.250020.txt\",skip_header=4))\n",
    "data31=np.transpose(np.genfromtxt(\"C81/OA44f.all1106.250290.txt\",skip_header=4))\n",
    "data32=np.transpose(np.genfromtxt(\"C81/OA44f.all1106.250440.txt\",skip_header=4))\n",
    "data33=np.transpose(np.genfromtxt(\"C81/OA44f.all1106.250670.txt\",skip_header=4))\n",
    "data34=np.transpose(np.genfromtxt(\"C81/OA44f.all1106.250780.txt\",skip_header=4))\n",
    "data35=np.transpose(np.genfromtxt(\"C81/OA44f.all1106.250870.txt\",skip_header=4))\n",
    "data36=np.transpose(np.genfromtxt(\"C81/OA44f.all1106.250960.txt\",skip_header=4))\n",
    "data37=np.transpose(np.genfromtxt(\"C81/OA44f.all1106.251040.txt\",skip_header=4))"
   ]
  },
  {
   "cell_type": "code",
   "execution_count": 515,
   "metadata": {
    "collapsed": true
   },
   "outputs": [],
   "source": [
    "data=np.array((data0,data1,data2,data3,data4,data5,data6,data7,data8,data9,data10,data11,data12,data13,data14,data15,data16,data17,data18,data19,data20,data21,data22,data23,data24,data25,data26,data27,data28,data29,data30,data31,data32,data33,data34,data35,data36,data37))"
   ]
  },
  {
   "cell_type": "code",
   "execution_count": 516,
   "metadata": {},
   "outputs": [],
   "source": [
    "d=410.0*9.461e+17\n",
    "dL=(d/3.086e+19)**2\n",
    "wavelist=np.zeros((38,760))\n",
    "lumilist=np.zeros((38,760))\n",
    "for i in range(len(data)):\n",
    "    hold1=data[i][1]*data[i][0]\n",
    "    hold2=hold1/(4*np.pi*d**2)\n",
    "    hold3=hold2*dL\n",
    "    lumi = hold3/(data[i][0]*10000)\n",
    "    wave = data[i][0]*10000\n",
    "    for j in range(760):\n",
    "        wavelist[i][j]=wave[j*5]\n",
    "        lumilist[i][j]=lumi[j*5]"
   ]
  },
  {
   "cell_type": "code",
   "execution_count": 517,
   "metadata": {},
   "outputs": [],
   "source": [
    "time=np.zeros((38,760))\n",
    "for k in range(14):\n",
    "    for l in range(760):\n",
    "        time[k][l]=-120+30.0*k\n",
    "        time[4][l]=0.0\n",
    "for k in range(19):\n",
    "    for l in range(760):\n",
    "        time[k+14][l]=330+30.0*k\n",
    "for k in range(5):\n",
    "    for l in range(760):\n",
    "        time[k+33][l]=930+30.0*k"
   ]
  },
  {
   "cell_type": "code",
   "execution_count": 519,
   "metadata": {},
   "outputs": [],
   "source": [
    "timestack=np.concatenate((time))\n",
    "wavestack=np.concatenate((wavelist))\n",
    "lumistack=np.concatenate((lumilist))"
   ]
  },
  {
   "cell_type": "code",
   "execution_count": 520,
   "metadata": {
    "collapsed": true
   },
   "outputs": [],
   "source": [
    "np.savetxt('mira_C81_bright.txt',np.column_stack([timestack,wavestack,lumistack]),fmt=('%.7e'),delimiter=' ')"
   ]
  },
  {
   "cell_type": "code",
   "execution_count": 521,
   "metadata": {},
   "outputs": [],
   "source": [
    "data0=np.transpose(np.genfromtxt(\"R52/OA44f.all1106.360540.txt\",skip_header=4))\n",
    "data1=np.transpose(np.genfromtxt(\"R52/OA44f.all1106.360760.txt\",skip_header=4))\n",
    "data2=np.transpose(np.genfromtxt(\"R52/OA44f.all1106.361180.txt\",skip_header=4))\n",
    "data3=np.transpose(np.genfromtxt(\"R52/OA44f.all1106.361720.txt\",skip_header=4))\n",
    "data4=np.transpose(np.genfromtxt(\"R52/OA44f.all1106.361860.txt\",skip_header=4))\n",
    "data5=np.transpose(np.genfromtxt(\"R52/OA44f.all1106.361900.txt\",skip_header=4))\n",
    "data6=np.transpose(np.genfromtxt(\"R52/OA44f.all1106.361920.txt\",skip_header=4))\n",
    "data7=np.transpose(np.genfromtxt(\"R52/OA44f.all1106.361940.txt\",skip_header=4))\n",
    "data8=np.transpose(np.genfromtxt(\"R52/OA44f.all1106.362020.txt\",skip_header=4))\n",
    "data9=np.transpose(np.genfromtxt(\"R52/OA44f.all1106.362200.txt\",skip_header=4))\n",
    "data10=np.transpose(np.genfromtxt(\"R52/OA44f.all1106.362380.txt\",skip_header=4))\n",
    "data11=np.transpose(np.genfromtxt(\"R52/OA44f.all1106.362560.txt\",skip_header=4))\n",
    "data12=np.transpose(np.genfromtxt(\"R52/OA44f.all1106.362780.txt\",skip_header=4))\n",
    "data13=np.transpose(np.genfromtxt(\"R52/OA44f.all1106.363000.txt\",skip_header=4))\n",
    "data14=np.transpose(np.genfromtxt(\"R52/OA44f.all1106.363180.txt\",skip_header=4))\n",
    "data15=np.transpose(np.genfromtxt(\"R52/OA44f.all1106.363380.txt\",skip_header=4))\n",
    "data16=np.transpose(np.genfromtxt(\"R52/OA44f.all1106.363540.txt\",skip_header=4))\n",
    "data17=np.transpose(np.genfromtxt(\"R52/OA44f.all1106.363600.txt\",skip_header=4))\n",
    "data18=np.transpose(np.genfromtxt(\"R52/OA44f.all1106.363700.txt\",skip_header=4))\n",
    "data19=np.transpose(np.genfromtxt(\"R52/OA44f.all1106.363900.txt\",skip_header=4))\n",
    "data20=np.transpose(np.genfromtxt(\"R52/OA44f.all1106.364120.txt\",skip_header=4))\n",
    "data21=np.transpose(np.genfromtxt(\"R52/OA44f.all1106.364380.txt\",skip_header=4))\n",
    "data22=np.transpose(np.genfromtxt(\"R52/OA44f.all1106.364960.txt\",skip_header=4))"
   ]
  },
  {
   "cell_type": "code",
   "execution_count": 522,
   "metadata": {
    "collapsed": true
   },
   "outputs": [],
   "source": [
    "data=np.array((data0,data1,data2,data3,data4,data5,data6,data7,data8,data9,data10,data11,data12,data13,data14,data15,data16,data17,data18,data19,data20,data21,data22))"
   ]
  },
  {
   "cell_type": "code",
   "execution_count": 523,
   "metadata": {},
   "outputs": [],
   "source": [
    "d=370.0*9.461e+17\n",
    "dL=(d/3.086e+19)**2\n",
    "wavelist=np.zeros((23,760))\n",
    "lumilist=np.zeros((23,760))\n",
    "for i in range(len(data)):\n",
    "    hold1=data[i][1]*data[i][0]\n",
    "    hold2=hold1/(4*np.pi*d**2)\n",
    "    hold3=hold2*dL\n",
    "    lumi = hold3/(data[i][0]*10000)\n",
    "    wave = data[i][0]*10000\n",
    "    for j in range(760):\n",
    "        wavelist[i][j]=wave[j*5]\n",
    "        lumilist[i][j]=lumi[j*5]"
   ]
  },
  {
   "cell_type": "code",
   "execution_count": 524,
   "metadata": {},
   "outputs": [],
   "source": [
    "time=np.zeros((23,760))\n",
    "for k in range(23):\n",
    "    for l in range(760):\n",
    "        time[k][l]=-60.0+30.0*k\n",
    "        time[2][l]=0.0"
   ]
  },
  {
   "cell_type": "code",
   "execution_count": 526,
   "metadata": {},
   "outputs": [],
   "source": [
    "timestack=np.concatenate((time))\n",
    "wavestack=np.concatenate((wavelist))\n",
    "lumistack=np.concatenate((lumilist))"
   ]
  },
  {
   "cell_type": "code",
   "execution_count": 527,
   "metadata": {},
   "outputs": [],
   "source": [
    "np.savetxt('mira_R52_exte.txt',np.column_stack([timestack,wavestack,lumistack]),fmt=('%.7e'),delimiter=' ')"
   ]
  },
  {
   "cell_type": "code",
   "execution_count": 528,
   "metadata": {
    "collapsed": true
   },
   "outputs": [],
   "source": [
    "data0=np.transpose(np.genfromtxt(\"R52/OA44f.all1106.386260.txt\",skip_header=4))\n",
    "data1=np.transpose(np.genfromtxt(\"R52/OA44f.all1106.386280.txt\",skip_header=4))\n",
    "data2=np.transpose(np.genfromtxt(\"R52/OA44f.all1106.386320.txt\",skip_header=4))\n",
    "data3=np.transpose(np.genfromtxt(\"R52/OA44f.all1106.386500.txt\",skip_header=4))\n",
    "data4=np.transpose(np.genfromtxt(\"R52/OA44f.all1106.386660.txt\",skip_header=4))\n",
    "data5=np.transpose(np.genfromtxt(\"R52/OA44f.all1106.386840.txt\",skip_header=4))\n",
    "data6=np.transpose(np.genfromtxt(\"R52/OA44f.all1106.387040.txt\",skip_header=4))\n",
    "data7=np.transpose(np.genfromtxt(\"R52/OA44f.all1106.387260.txt\",skip_header=4))\n",
    "data8=np.transpose(np.genfromtxt(\"R52/OA44f.all1106.387420.txt\",skip_header=4))\n",
    "data9=np.transpose(np.genfromtxt(\"R52/OA44f.all1106.387580.txt\",skip_header=4))\n",
    "data10=np.transpose(np.genfromtxt(\"R52/OA44f.all1106.387700.txt\",skip_header=4))\n",
    "data11=np.transpose(np.genfromtxt(\"R52/OA44f.all1106.387780.txt\",skip_header=4))\n",
    "data12=np.transpose(np.genfromtxt(\"R52/OA44f.all1106.387860.txt\",skip_header=4))\n",
    "data13=np.transpose(np.genfromtxt(\"R52/OA44f.all1106.388040.txt\",skip_header=4))\n",
    "data14=np.transpose(np.genfromtxt(\"R52/OA44f.all1106.388240.txt\",skip_header=4))\n",
    "data15=np.transpose(np.genfromtxt(\"R52/OA44f.all1106.388480.txt\",skip_header=4))\n",
    "data16=np.transpose(np.genfromtxt(\"R52/OA44f.all1106.388900.txt\",skip_header=4))\n",
    "data17=np.transpose(np.genfromtxt(\"R52/OA44f.all1106.389540.txt\",skip_header=4))\n",
    "data18=np.transpose(np.genfromtxt(\"R52/OA44f.all1106.389680.txt\",skip_header=4))\n",
    "data19=np.transpose(np.genfromtxt(\"R52/OA44f.all1106.389720.txt\",skip_header=4))\n",
    "data20=np.transpose(np.genfromtxt(\"R52/OA44f.all1106.389740.txt\",skip_header=4))\n",
    "data21=np.transpose(np.genfromtxt(\"R52/OA44f.all1106.389780.txt\",skip_header=4))\n",
    "data22=np.transpose(np.genfromtxt(\"R52/OA44f.all1106.389940.txt\",skip_header=4))\n",
    "data23=np.transpose(np.genfromtxt(\"R52/OA44f.all1106.390120.txt\",skip_header=4))\n",
    "data24=np.transpose(np.genfromtxt(\"R52/OA44f.all1106.390300.txt\",skip_header=4))"
   ]
  },
  {
   "cell_type": "code",
   "execution_count": 529,
   "metadata": {
    "collapsed": true
   },
   "outputs": [],
   "source": [
    "data=np.array((data0,data1,data2,data3,data4,data5,data6,data7,data8,data9,data10,data11,data12,data13,data14,data15,data16,data17,data18,data19,data20,data21,data22,data23,data24))"
   ]
  },
  {
   "cell_type": "code",
   "execution_count": 530,
   "metadata": {},
   "outputs": [],
   "source": [
    "d=370.0*9.461e+17\n",
    "dL=(d/3.086e+19)**2\n",
    "wavelist=np.zeros((25,760))\n",
    "lumilist=np.zeros((25,760))\n",
    "for i in range(len(data)):\n",
    "    hold1=data[i][1]*data[i][0]\n",
    "    hold2=hold1/(4*np.pi*d**2)\n",
    "    hold3=hold2*dL\n",
    "    lumi = hold3/(data[i][0]*10000)\n",
    "    wave = data[i][0]*10000\n",
    "    for j in range(760):\n",
    "        wavelist[i][j]=wave[j*5]\n",
    "        lumilist[i][j]=lumi[j*5]"
   ]
  },
  {
   "cell_type": "code",
   "execution_count": 531,
   "metadata": {},
   "outputs": [],
   "source": [
    "time=np.zeros((25,760))\n",
    "for k in range(25):\n",
    "    for l in range(760):\n",
    "        time[k][l]=810.0+30.0*k"
   ]
  },
  {
   "cell_type": "code",
   "execution_count": 533,
   "metadata": {},
   "outputs": [],
   "source": [
    "timestack=np.concatenate((time))\n",
    "wavestack=np.concatenate((wavelist))\n",
    "lumistack=np.concatenate((lumilist))"
   ]
  },
  {
   "cell_type": "code",
   "execution_count": 534,
   "metadata": {
    "collapsed": true
   },
   "outputs": [],
   "source": [
    "np.savetxt('mira_R52_comp.txt',np.column_stack([timestack,wavestack,lumistack]),fmt=('%.7e'),delimiter=' ')"
   ]
  },
  {
   "cell_type": "code",
   "execution_count": 535,
   "metadata": {},
   "outputs": [],
   "source": [
    "data0=np.transpose(np.genfromtxt(\"x54/OA44f.all1106x.238030.txt\",skip_header=4))\n",
    "data1=np.transpose(np.genfromtxt(\"x54/OA44f.all1106x.238360p.txt\",skip_header=4))\n",
    "data2=np.transpose(np.genfromtxt(\"x54/OA44f.all1106x.238940p.txt\",skip_header=4))\n",
    "data3=np.transpose(np.genfromtxt(\"x54/OA44f.all1106x.239080p.txt\",skip_header=4))\n",
    "data4=np.transpose(np.genfromtxt(\"x54/OA44f.all1106x.239150.txt\",skip_header=4))\n",
    "data5=np.transpose(np.genfromtxt(\"x54/OA44f.all1106x.239190.txt\",skip_header=4))\n",
    "data6=np.transpose(np.genfromtxt(\"x54/OA44f.all1106x.239210.txt\",skip_header=4))\n",
    "data7=np.transpose(np.genfromtxt(\"x54/OA44f.all1106x.239230.txt\",skip_header=4))\n",
    "data8=np.transpose(np.genfromtxt(\"x54/OA44f.all1106x.239270.txt\",skip_header=4))\n",
    "data9=np.transpose(np.genfromtxt(\"x54/OA44f.all1106x.239420.txt\",skip_header=4))\n",
    "data10=np.transpose(np.genfromtxt(\"x54/OA44f.all1106x.239550.txt\",skip_header=4))\n",
    "data11=np.transpose(np.genfromtxt(\"x54/OA44f.all1106x.239690p.txt\",skip_header=4))\n",
    "data12=np.transpose(np.genfromtxt(\"x54/OA44f.all1106x.239880p.txt\",skip_header=4))"
   ]
  },
  {
   "cell_type": "code",
   "execution_count": 536,
   "metadata": {
    "collapsed": true
   },
   "outputs": [],
   "source": [
    "data=np.array((data0,data1,data2,data3,data4,data5,data6,data7,data8,data9,data10,data11,data12))"
   ]
  },
  {
   "cell_type": "code",
   "execution_count": 537,
   "metadata": {},
   "outputs": [],
   "source": [
    "d=351.0*9.461e+17\n",
    "dL=(d/3.086e+19)**2\n",
    "wavelist=np.zeros((25,760))\n",
    "lumilist=np.zeros((25,760))\n",
    "for i in range(len(data)):\n",
    "    hold1=data[i][1]*data[i][0]\n",
    "    hold2=hold1/(4*np.pi*d**2)\n",
    "    hold3=hold2*dL\n",
    "    lumi = hold3/(data[i][0]*10000)\n",
    "    wave = data[i][0]*10000\n",
    "    for j in range(760):\n",
    "        wavelist[i][j]=wave[j*5]\n",
    "        lumilist[i][j]=lumi[j*5]"
   ]
  },
  {
   "cell_type": "code",
   "execution_count": 538,
   "metadata": {},
   "outputs": [],
   "source": [
    "time=np.zeros((25,760))\n",
    "for k in range(25):\n",
    "    for l in range(760):\n",
    "        time[k][l]=540.0+30.0*k"
   ]
  },
  {
   "cell_type": "code",
   "execution_count": 540,
   "metadata": {
    "collapsed": true
   },
   "outputs": [],
   "source": [
    "timestack=np.concatenate((time))\n",
    "wavestack=np.concatenate((wavelist))\n",
    "lumistack=np.concatenate((lumilist))"
   ]
  },
  {
   "cell_type": "code",
   "execution_count": 541,
   "metadata": {
    "collapsed": true
   },
   "outputs": [],
   "source": [
    "np.savetxt('mira_x54_ssolm.txt',np.column_stack([timestack,wavestack,lumistack]),fmt=('%.7e'),delimiter=' ')"
   ]
  },
  {
   "cell_type": "code",
   "execution_count": null,
   "metadata": {
    "collapsed": true
   },
   "outputs": [],
   "source": []
  }
 ],
 "metadata": {
  "kernelspec": {
   "display_name": "Python 3",
   "language": "python",
   "name": "python3"
  },
  "language_info": {
   "codemirror_mode": {
    "name": "ipython",
    "version": 3
   },
   "file_extension": ".py",
   "mimetype": "text/x-python",
   "name": "python",
   "nbconvert_exporter": "python",
   "pygments_lexer": "ipython3",
   "version": "3.6.3"
  }
 },
 "nbformat": 4,
 "nbformat_minor": 2
}
