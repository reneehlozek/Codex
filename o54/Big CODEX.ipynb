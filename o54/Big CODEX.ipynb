{
 "cells": [
  {
   "cell_type": "code",
   "execution_count": 6,
   "metadata": {
    "collapsed": false
   },
   "outputs": [
    {
     "name": "stdout",
     "output_type": "stream",
     "text": [
      "Once deleted, variables cannot be recovered. Proceed (y/[n])? y\n"
     ]
    }
   ],
   "source": [
    "%reset"
   ]
  },
  {
   "cell_type": "code",
   "execution_count": 7,
   "metadata": {
    "collapsed": true
   },
   "outputs": [],
   "source": [
    "import numpy as np\n",
    "import matplotlib.pyplot as plt\n",
    "%matplotlib inline"
   ]
  },
  {
   "cell_type": "code",
   "execution_count": 10,
   "metadata": {
    "collapsed": false
   },
   "outputs": [],
   "source": [
    "data0=np.transpose(np.genfromtxt(\"OA44f.all1106.285180.txt\",skip_header=4))\n",
    "data1=np.transpose(np.genfromtxt(\"OA44f.all1106.285320.txt\",skip_header=4))\n",
    "data2=np.transpose(np.genfromtxt(\"OA44f.all1106.285500p.txt\",skip_header=4))\n",
    "data3=np.transpose(np.genfromtxt(\"OA44f.all1106.285700.txt\",skip_header=4))\n",
    "data4=np.transpose(np.genfromtxt(\"OA44f.all1106.285860.txt\",skip_header=4))\n",
    "data5=np.transpose(np.genfromtxt(\"OA44f.all1106.285980.txt\",skip_header=4))\n",
    "data6=np.transpose(np.genfromtxt(\"OA44f.all1106.286060.txt\",skip_header=4))\n",
    "data7=np.transpose(np.genfromtxt(\"OA44f.all1106.286100.txt\",skip_header=4))\n",
    "data8=np.transpose(np.genfromtxt(\"OA44f.all1106.286140.txt\",skip_header=4))\n",
    "data9=np.transpose(np.genfromtxt(\"OA44f.all1106.286320.txt\",skip_header=4))\n",
    "data10=np.transpose(np.genfromtxt(\"OA44f.all1106.286520.txt\",skip_header=4))\n",
    "data11=np.transpose(np.genfromtxt(\"OA44f.all1106.286700.txt\",skip_header=4))\n",
    "data12=np.transpose(np.genfromtxt(\"OA44f.all1106.287000p.txt\",skip_header=4))\n",
    "data13=np.transpose(np.genfromtxt(\"OA44f.all1106.287560p.txt\",skip_header=4))\n",
    "data14=np.transpose(np.genfromtxt(\"OA44f.all1106.287740.txt\",skip_header=4))\n",
    "data15=np.transpose(np.genfromtxt(\"OA44f.all1106.287820.txt\",skip_header=4))\n",
    "data16=np.transpose(np.genfromtxt(\"OA44f.all1106.287880.txt\",skip_header=4))\n",
    "data17=np.transpose(np.genfromtxt(\"OA44f.all1106.287940.txt\",skip_header=4))\n",
    "data18=np.transpose(np.genfromtxt(\"OA44f.all1106.287980.txt\",skip_header=4))\n",
    "data19=np.transpose(np.genfromtxt(\"OA44f.all1106.288140.txt\",skip_header=4))\n",
    "data20=np.transpose(np.genfromtxt(\"OA44f.all1106.288320.txt\",skip_header=4))\n",
    "data21=np.transpose(np.genfromtxt(\"OA44f.all1106.288460.txt\",skip_header=4))\n",
    "data22=np.transpose(np.genfromtxt(\"OA44f.all1106.288620p.txt\",skip_header=4))\n",
    "data23=np.transpose(np.genfromtxt(\"OA44f.all1106.288820.txt\",skip_header=4))\n",
    "data24=np.transpose(np.genfromtxt(\"OA44f.all1106.289020.txt\",skip_header=4))\n",
    "data25=np.transpose(np.genfromtxt(\"OA44f.all1106.289240.txt\",skip_header=4))\n",
    "data26=np.transpose(np.genfromtxt(\"OA44f.all1106.289440.txt\",skip_header=4))\n",
    "data27=np.transpose(np.genfromtxt(\"OA44f.all1106.289620.txt\",skip_header=4))\n",
    "data28=np.transpose(np.genfromtxt(\"OA44f.all1106.289740.txt\",skip_header=4))\n",
    "data29=np.transpose(np.genfromtxt(\"OA44f.all1106.289920.txt\",skip_header=4))\n",
    "data30=np.transpose(np.genfromtxt(\"OA44f.all1106.290120.txt\",skip_header=4))\n",
    "data31=np.transpose(np.genfromtxt(\"OA44f.all1106.290360.txt\",skip_header=4))\n",
    "data32=np.transpose(np.genfromtxt(\"OA44f.all1106.290740p.txt\",skip_header=4))\n",
    "data33=np.transpose(np.genfromtxt(\"OA44f.all1106.291500p.txt\",skip_header=4))\n",
    "data34=np.transpose(np.genfromtxt(\"OA44f.all1106.291740p.txt\",skip_header=4))\n",
    "data35=np.transpose(np.genfromtxt(\"OA44f.all1106.291800.txt\",skip_header=4))\n",
    "data36=np.transpose(np.genfromtxt(\"OA44f.all1106.291820.txt\",skip_header=4))\n",
    "data37=np.transpose(np.genfromtxt(\"OA44f.all1106.291840.txt\",skip_header=4))\n",
    "data38=np.transpose(np.genfromtxt(\"OA44f.all1106.291860.txt\",skip_header=4))"
   ]
  },
  {
   "cell_type": "code",
   "execution_count": 11,
   "metadata": {
    "collapsed": true
   },
   "outputs": [],
   "source": [
    "data=np.array((data0,data1,data2,data3,data4,data5,data6,data7,data8,data9,data10,data11,data12,data13,data14,data15,data16,data17,data18,data19,data20,data21,data22,data23,data24,data25,data26,data27,data28,data29,data30,data31,data32,data33,data34,data35,data36,data37,data38))"
   ]
  },
  {
   "cell_type": "code",
   "execution_count": 13,
   "metadata": {
    "collapsed": false
   },
   "outputs": [],
   "source": [
    "d=2.838e+20\n",
    "#3.086e+20\n",
    "#data[i][1]*(data[i][0]/(4.0*np.pi*3.086e+20*data[i][0]*10000))\n",
    "wavelist=np.zeros((39,5000))\n",
    "lumilist=np.zeros((39,5000))\n",
    "for i in range(len(data)):\n",
    "    hold1=data[i][1]*data[i][0]\n",
    "    hold2=hold1/(4*np.pi*d**2)\n",
    "    hold3=hold2*84.60\n",
    "    lumi = hold3/(data[i][0]*10000)\n",
    "    wave = data[i][0]*10000\n",
    "    for j in range(5000):\n",
    "        wavelist[i][j]=wave[j*3]\n",
    "        lumilist[i][j]=lumi[j*3]"
   ]
  },
  {
   "cell_type": "code",
   "execution_count": 14,
   "metadata": {
    "collapsed": true
   },
   "outputs": [],
   "source": [
    "time=np.zeros((39,5000))\n",
    "for k in range(39):\n",
    "    for l in range(5000):\n",
    "        time[k][l]=-60.0+30.0*k\n",
    "        time[2][l]=0.0"
   ]
  },
  {
   "cell_type": "code",
   "execution_count": 15,
   "metadata": {
    "collapsed": true
   },
   "outputs": [],
   "source": [
    "timestack=np.concatenate((time))\n",
    "wavestack=np.concatenate((wavelist))\n",
    "lumistack=np.concatenate((lumilist))"
   ]
  },
  {
   "cell_type": "code",
   "execution_count": 17,
   "metadata": {
    "collapsed": false
   },
   "outputs": [],
   "source": [
    "np.savetxt('mira_codex_long_o54.txt',np.column_stack([timestack,wavestack,lumistack]),fmt=('%.7e'),delimiter=' ')"
   ]
  },
  {
   "cell_type": "code",
   "execution_count": null,
   "metadata": {
    "collapsed": true
   },
   "outputs": [],
   "source": []
  }
 ],
 "metadata": {
  "kernelspec": {
   "display_name": "Python 3",
   "language": "python",
   "name": "python3"
  },
  "language_info": {
   "codemirror_mode": {
    "name": "ipython",
    "version": 3
   },
   "file_extension": ".py",
   "mimetype": "text/x-python",
   "name": "python",
   "nbconvert_exporter": "python",
   "pygments_lexer": "ipython3",
   "version": "3.6.0"
  }
 },
 "nbformat": 4,
 "nbformat_minor": 2
}
